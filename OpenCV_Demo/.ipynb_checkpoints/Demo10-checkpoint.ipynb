{
 "cells": [
  {
   "cell_type": "code",
   "execution_count": 18,
   "metadata": {},
   "outputs": [],
   "source": [
    "import numpy as np\n",
    "rng = np.random.RandomState(42)"
   ]
  },
  {
   "cell_type": "code",
   "execution_count": 19,
   "metadata": {},
   "outputs": [],
   "source": [
    "x = np.sort(5 * rng.rand(100, 1), axis=0)"
   ]
  },
  {
   "cell_type": "code",
   "execution_count": 20,
   "metadata": {},
   "outputs": [
    {
     "data": {
      "text/plain": [
       "array([[0.02761059],\n",
       "       [0.10292247],\n",
       "       [0.12709563],\n",
       "       [0.17194261],\n",
       "       [0.22613644],\n",
       "       [0.23225206],\n",
       "       [0.29041806],\n",
       "       [0.31779175],\n",
       "       [0.32525796],\n",
       "       [0.37022326],\n",
       "       [0.37275322],\n",
       "       [0.44246251],\n",
       "       [0.48836057],\n",
       "       [0.53945713],\n",
       "       [0.5793453 ],\n",
       "       [0.59797123],\n",
       "       [0.61019117],\n",
       "       [0.6974693 ],\n",
       "       [0.70462112],\n",
       "       [0.7799726 ],\n",
       "       [0.7800932 ],\n",
       "       [0.85262062],\n",
       "       [0.90912484],\n",
       "       [0.91702255],\n",
       "       [0.92427228],\n",
       "       [0.97991431],\n",
       "       [0.99357841],\n",
       "       [0.99836891],\n",
       "       [1.06169555],\n",
       "       [1.29389991],\n",
       "       [1.35674516],\n",
       "       [1.40467255],\n",
       "       [1.4561457 ],\n",
       "       [1.46072324],\n",
       "       [1.52121121],\n",
       "       [1.52306885],\n",
       "       [1.55491161],\n",
       "       [1.55855538],\n",
       "       [1.62591661],\n",
       "       [1.62665165],\n",
       "       [1.65449012],\n",
       "       [1.78376663],\n",
       "       [1.79232864],\n",
       "       [1.83180922],\n",
       "       [1.87270059],\n",
       "       [1.94338645],\n",
       "       [2.13770509],\n",
       "       [2.15972509],\n",
       "       [2.20076247],\n",
       "       [2.28034992],\n",
       "       [2.36107463],\n",
       "       [2.46897798],\n",
       "       [2.47588455],\n",
       "       [2.57117219],\n",
       "       [2.60034011],\n",
       "       [2.61366415],\n",
       "       [2.62378216],\n",
       "       [2.71348042],\n",
       "       [2.7335514 ],\n",
       "       [2.80638599],\n",
       "       [2.96207284],\n",
       "       [2.98949989],\n",
       "       [2.99329242],\n",
       "       [3.00557506],\n",
       "       [3.03772426],\n",
       "       [3.05926447],\n",
       "       [3.11649063],\n",
       "       [3.18778736],\n",
       "       [3.31261142],\n",
       "       [3.42116513],\n",
       "       [3.53428672],\n",
       "       [3.54036289],\n",
       "       [3.56622394],\n",
       "       [3.64503584],\n",
       "       [3.64803089],\n",
       "       [3.65996971],\n",
       "       [3.80392524],\n",
       "       [3.8548359 ],\n",
       "       [3.85635173],\n",
       "       [3.86122385],\n",
       "       [3.87566412],\n",
       "       [3.92587981],\n",
       "       [4.0109849 ],\n",
       "       [4.04198674],\n",
       "       [4.07730714],\n",
       "       [4.14368755],\n",
       "       [4.1622132 ],\n",
       "       [4.31551713],\n",
       "       [4.33088073],\n",
       "       [4.43606371],\n",
       "       [4.47413675],\n",
       "       [4.54660201],\n",
       "       [4.60937118],\n",
       "       [4.69749471],\n",
       "       [4.74442769],\n",
       "       [4.75357153],\n",
       "       [4.82816017],\n",
       "       [4.84792314],\n",
       "       [4.84954926],\n",
       "       [4.93443468]])"
      ]
     },
     "execution_count": 20,
     "metadata": {},
     "output_type": "execute_result"
    }
   ],
   "source": [
    "x"
   ]
  },
  {
   "cell_type": "code",
   "execution_count": 21,
   "metadata": {},
   "outputs": [],
   "source": [
    "y = np.sin(x).ravel()"
   ]
  },
  {
   "cell_type": "code",
   "execution_count": 22,
   "metadata": {},
   "outputs": [],
   "source": [
    "y[::2] += 0.5 * (0.5 - rng.rand(50)) "
   ]
  },
  {
   "cell_type": "code",
   "execution_count": 23,
   "metadata": {},
   "outputs": [
    {
     "data": {
      "text/plain": [
       "array([0.02761059])"
      ]
     },
     "execution_count": 23,
     "metadata": {},
     "output_type": "execute_result"
    }
   ],
   "source": [
    "x[0]"
   ]
  },
  {
   "cell_type": "code",
   "execution_count": 24,
   "metadata": {},
   "outputs": [
    {
     "data": {
      "text/plain": [
       "DecisionTreeRegressor(max_depth=2, random_state=42)"
      ]
     },
     "execution_count": 24,
     "metadata": {},
     "output_type": "execute_result"
    }
   ],
   "source": [
    "from sklearn import tree\n",
    "regr1 = tree.DecisionTreeRegressor(max_depth=2, random_state=42)\n",
    "regr1.fit(x, y)"
   ]
  },
  {
   "cell_type": "code",
   "execution_count": 25,
   "metadata": {},
   "outputs": [
    {
     "data": {
      "text/plain": [
       "DecisionTreeRegressor(max_depth=5, random_state=42)"
      ]
     },
     "execution_count": 25,
     "metadata": {},
     "output_type": "execute_result"
    }
   ],
   "source": [
    "regr2 = tree.DecisionTreeRegressor(max_depth=5, random_state=42)\n",
    "regr2.fit(x, y)"
   ]
  },
  {
   "cell_type": "code",
   "execution_count": 26,
   "metadata": {},
   "outputs": [],
   "source": [
    "x_test = np.arange(0.0, 5.0, 0.01)[:, np.newaxis]"
   ]
  },
  {
   "cell_type": "code",
   "execution_count": 27,
   "metadata": {},
   "outputs": [],
   "source": [
    "y_1 = regr1.predict(x_test)\n",
    "y_2 = regr2.predict(x_test)"
   ]
  },
  {
   "cell_type": "code",
   "execution_count": 28,
   "metadata": {},
   "outputs": [
    {
     "data": {
      "text/plain": [
       "<matplotlib.legend.Legend at 0x26cb89eed60>"
      ]
     },
     "execution_count": 28,
     "metadata": {},
     "output_type": "execute_result"
    },
    {
     "data": {
      "image/png": "[encoded data removed]",
      "text/plain": [
       "<Figure size 432x288 with 1 Axes>"
      ]
     },
     "metadata": {},
     "output_type": "display_data"
    }
   ],
   "source": [
    "import matplotlib.pyplot as plt\n",
    "%matplotlib inline\n",
    "plt.style.use('ggplot')\n",
    "plt.scatter(x, y, c='k', s=50, label='data')\n",
    "plt.plot(x_test, y_1, label='max_depth=2', linewidth=5)\n",
    "plt.plot(x_test, y_2, label='max_depth=5', linewidth=3)\n",
    "plt.xlabel('data')\n",
    "plt.ylabel('target')\n",
    "plt.legend()"
   ]
  },
  {
   "cell_type": "code",
   "execution_count": null,
   "metadata": {},
   "outputs": [],
   "source": []
  }
 ],
 "metadata": {
  "kernelspec": {
   "display_name": "Python 3",
   "language": "python",
   "name": "python3"
  },
  "language_info": {
   "codemirror_mode": {
    "name": "ipython",
    "version": 3
   },
   "file_extension": ".py",
   "mimetype": "text/x-python",
   "name": "python",
   "nbconvert_exporter": "python",
   "pygments_lexer": "ipython3",
   "version": "3.8.3"
  }
 },
 "nbformat": 4,
 "nbformat_minor": 4
}
